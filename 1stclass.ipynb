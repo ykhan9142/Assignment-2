{
 "cells": [
  {
   "cell_type": "code",
   "execution_count": 2,
   "metadata": {},
   "outputs": [
    {
     "name": "stdout",
     "output_type": "stream",
     "text": [
      "Enter your name:Yaseen khan\n"
     ]
    }
   ],
   "source": [
    "#this is variable initialization\n",
    "name = input(\"Enter your name:\")"
   ]
  },
  {
   "cell_type": "code",
   "execution_count": 4,
   "metadata": {},
   "outputs": [
    {
     "name": "stdout",
     "output_type": "stream",
     "text": [
      "Yaseen khan\n",
      "name\n"
     ]
    }
   ],
   "source": [
    "print (name)\n",
    "\n",
    "\n",
    "print(\"name\")"
   ]
  },
  {
   "cell_type": "code",
   "execution_count": 13,
   "metadata": {},
   "outputs": [
    {
     "name": "stdout",
     "output_type": "stream",
     "text": [
      "enter your name= Yaseen\n",
      "father name= Riaz\n",
      "cell number= 03000\n"
     ]
    }
   ],
   "source": [
    "name= input(\"enter your name= \")\n",
    "fname= input(\"father name= \")\n",
    "cname= input(\"cell number= \")"
   ]
  },
  {
   "cell_type": "code",
   "execution_count": 19,
   "metadata": {},
   "outputs": [
    {
     "name": "stdout",
     "output_type": "stream",
     "text": [
      "Yaseen Riaz\n"
     ]
    }
   ],
   "source": [
    "print(name+\" \" +fname)\n",
    "# print(fname)\n",
    "# print(cname)\n",
    "# print(fname)\n",
    "# print(cname)\n",
    "# print(fname)\n",
    "# print(cname)\n",
    "# print(fname)\n",
    "# print(cname)"
   ]
  },
  {
   "cell_type": "code",
   "execution_count": 24,
   "metadata": {},
   "outputs": [
    {
     "name": "stdout",
     "output_type": "stream",
     "text": [
      "kuch bhigjhgjh\n"
     ]
    }
   ],
   "source": [
    "Father_9 = input(\"kuch bhi\")"
   ]
  },
  {
   "cell_type": "code",
   "execution_count": 27,
   "metadata": {},
   "outputs": [
    {
     "name": "stdout",
     "output_type": "stream",
     "text": [
      "Enter your num90\n"
     ]
    }
   ],
   "source": [
    "num1 = int(input(\"Enter your num\"))"
   ]
  },
  {
   "cell_type": "code",
   "execution_count": 28,
   "metadata": {},
   "outputs": [
    {
     "data": {
      "text/plain": [
       "int"
      ]
     },
     "execution_count": 28,
     "metadata": {},
     "output_type": "execute_result"
    }
   ],
   "source": [
    "type(num1)"
   ]
  },
  {
   "cell_type": "code",
   "execution_count": 32,
   "metadata": {},
   "outputs": [
    {
     "name": "stdout",
     "output_type": "stream",
     "text": [
      "Enter your num112\n",
      "Enter your num223\n",
      "12         23\n"
     ]
    }
   ],
   "source": [
    "num1 = input(\"Enter your num1\")\n",
    "num2 = input(\"Enter your num2\")\n",
    "print(num1+\"         \" +num2)"
   ]
  },
  {
   "cell_type": "code",
   "execution_count": 34,
   "metadata": {},
   "outputs": [
    {
     "name": "stdout",
     "output_type": "stream",
     "text": [
      "1000\n"
     ]
    }
   ],
   "source": [
    "present = 600\n",
    "past = 400\n",
    "unit = present - past\n",
    "print(unit*5)"
   ]
  },
  {
   "cell_type": "code",
   "execution_count": null,
   "metadata": {},
   "outputs": [],
   "source": []
  }
 ],
 "metadata": {
  "kernelspec": {
   "display_name": "Python 3",
   "language": "python",
   "name": "python3"
  },
  "language_info": {
   "codemirror_mode": {
    "name": "ipython",
    "version": 3
   },
   "file_extension": ".py",
   "mimetype": "text/x-python",
   "name": "python",
   "nbconvert_exporter": "python",
   "pygments_lexer": "ipython3",
   "version": "3.6.5"
  }
 },
 "nbformat": 4,
 "nbformat_minor": 2
}
