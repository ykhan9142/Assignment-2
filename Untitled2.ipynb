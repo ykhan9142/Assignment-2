{
 "cells": [
  {
   "cell_type": "code",
   "execution_count": 3,
   "metadata": {},
   "outputs": [
    {
     "name": "stdout",
     "output_type": "stream",
     "text": [
      "Enter your nameRaz\n",
      "Enter Prev. reading: 67000\n",
      "Enter Pres reading: 76888\n"
     ]
    }
   ],
   "source": [
    "name = input(\"Enter your name\")\n",
    "prev = int(input(\"Enter Prev. reading: \"))\n",
    "pres = int(input(\"Enter Pres reading: \"))"
   ]
  },
  {
   "cell_type": "code",
   "execution_count": 12,
   "metadata": {},
   "outputs": [
    {
     "name": "stdout",
     "output_type": "stream",
     "text": [
      "Total Number of units are =  9888\n",
      "Total Amount to be paid is = 98880\n"
     ]
    }
   ],
   "source": [
    "unit = pres-prev\n",
    "print ('Total Number of units are = ',format(unit))\n",
    "print (\"Total Amount to be paid is =\",format (unit*10))"
   ]
  },
  {
   "cell_type": "code",
   "execution_count": null,
   "metadata": {},
   "outputs": [],
   "source": []
  }
 ],
 "metadata": {
  "kernelspec": {
   "display_name": "Python 3",
   "language": "python",
   "name": "python3"
  },
  "language_info": {
   "codemirror_mode": {
    "name": "ipython",
    "version": 3
   },
   "file_extension": ".py",
   "mimetype": "text/x-python",
   "name": "python",
   "nbconvert_exporter": "python",
   "pygments_lexer": "ipython3",
   "version": "3.6.5"
  }
 },
 "nbformat": 4,
 "nbformat_minor": 2
}
